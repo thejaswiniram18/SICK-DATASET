{
  "nbformat": 4,
  "nbformat_minor": 0,
  "metadata": {
    "colab": {
      "name": "Semantic_Similarity(SICK)",
      "provenance": [],
      "collapsed_sections": []
    },
    "kernelspec": {
      "name": "python3",
      "display_name": "Python 3"
    },
    "language_info": {
      "name": "python"
    }
  },
  "cells": [
    {
      "cell_type": "markdown",
      "source": [
        "Author : Thejaswini Ram<br><br>\n",
        "*This notebook focuses on preparing a dataset named Sick that contains 4500 pairs of sentences for analysing semantic similarity.*\n",
        "\n",
        "\n"
      ],
      "metadata": {
        "id": "CANlGRg4OxJl"
      }
    },
    {
      "cell_type": "markdown",
      "source": [
        ""
      ],
      "metadata": {
        "id": "pkSjemzUnnja"
      }
    },
    {
      "cell_type": "code",
      "source": [
        "import numpy as np\n",
        "import pandas as pd       #importing numpy and pandas libraries \n",
        "                "
      ],
      "metadata": {
        "id": "LPkvescg63T6"
      },
      "execution_count": null,
      "outputs": []
    },
    {
      "cell_type": "code",
      "source": [
        "!wget https://raw.githubusercontent.com/jmstanto/ist664/main/SICK_train.txt   #URL network downloader, used to download files "
      ],
      "metadata": {
        "colab": {
          "base_uri": "https://localhost:8080/"
        },
        "id": "9F1QvOq48ihQ",
        "outputId": "f3aea20b-cae0-4584-da4c-6da5bb4daff7"
      },
      "execution_count": null,
      "outputs": [
        {
          "output_type": "stream",
          "name": "stdout",
          "text": [
            "--2022-03-24 12:05:14--  https://raw.githubusercontent.com/jmstanto/ist664/main/SICK_train.txt\n",
            "Resolving raw.githubusercontent.com (raw.githubusercontent.com)... 185.199.108.133, 185.199.109.133, 185.199.110.133, ...\n",
            "Connecting to raw.githubusercontent.com (raw.githubusercontent.com)|185.199.108.133|:443... connected.\n",
            "HTTP request sent, awaiting response... 200 OK\n",
            "Length: 506243 (494K) [text/plain]\n",
            "Saving to: ‘SICK_train.txt’\n",
            "\n",
            "SICK_train.txt      100%[===================>] 494.38K  --.-KB/s    in 0.04s   \n",
            "\n",
            "2022-03-24 12:05:14 (13.7 MB/s) - ‘SICK_train.txt’ saved [506243/506243]\n",
            "\n"
          ]
        }
      ]
    },
    {
      "cell_type": "code",
      "source": [
        "sick_data = pd.read_csv(\"https://raw.githubusercontent.com/jmstanto/ist664/main/SICK_train.txt\" , sep='\\t', on_bad_lines='skip', index_col=None) \n",
        "\n",
        "sick_data.head(10)   #reading the SICK_train dataset and displaying few rows of data (sentence pairs together) with the score of relatedness; \n",
        "                        #relatedness scores ranges from 1 to 5 points"
      ],
      "metadata": {
        "colab": {
          "base_uri": "https://localhost:8080/",
          "height": 363
        },
        "id": "vBk0K3H97B0w",
        "outputId": "2f896577-8db2-4958-9b30-f9fc305b0e88"
      },
      "execution_count": null,
      "outputs": [
        {
          "output_type": "execute_result",
          "data": {
            "text/plain": [
              "   pair_ID                                         sentence_A  \\\n",
              "0        1  A group of kids is playing in a yard and an ol...   \n",
              "1        2  A group of children is playing in the house an...   \n",
              "2        3  The young boys are playing outdoors and the ma...   \n",
              "3        5  The kids are playing outdoors near a man with ...   \n",
              "4        9  The young boys are playing outdoors and the ma...   \n",
              "5       12                              Two dogs are fighting   \n",
              "6       14  A brown dog is attacking another animal in fro...   \n",
              "7       18  A brown dog is attacking another animal in fro...   \n",
              "8       25          Nobody is riding the bicycle on one wheel   \n",
              "9       26        A person is riding the bicycle on one wheel   \n",
              "\n",
              "                                          sentence_B  relatedness_score  \\\n",
              "0  A group of boys in a yard is playing and a man...                4.5   \n",
              "1  A group of kids is playing in a yard and an ol...                3.2   \n",
              "2  The kids are playing outdoors near a man with ...                4.7   \n",
              "3  A group of kids is playing in a yard and an ol...                3.4   \n",
              "4  A group of kids is playing in a yard and an ol...                3.7   \n",
              "5                 Two dogs are wrestling and hugging                4.0   \n",
              "6                              Two dogs are fighting                3.5   \n",
              "7                 Two dogs are wrestling and hugging                3.2   \n",
              "8  A person in a black jacket is doing tricks on ...                2.8   \n",
              "9  A man in a black jacket is doing tricks on a m...                3.7   \n",
              "\n",
              "  entailment_judgment  \n",
              "0             NEUTRAL  \n",
              "1             NEUTRAL  \n",
              "2          ENTAILMENT  \n",
              "3             NEUTRAL  \n",
              "4             NEUTRAL  \n",
              "5             NEUTRAL  \n",
              "6             NEUTRAL  \n",
              "7             NEUTRAL  \n",
              "8             NEUTRAL  \n",
              "9             NEUTRAL  "
            ],
            "text/html": [
              "\n",
              "  <div id=\"df-322dba41-c3b4-44f5-8727-788cb38b7e3c\">\n",
              "    <div class=\"colab-df-container\">\n",
              "      <div>\n",
              "<style scoped>\n",
              "    .dataframe tbody tr th:only-of-type {\n",
              "        vertical-align: middle;\n",
              "    }\n",
              "\n",
              "    .dataframe tbody tr th {\n",
              "        vertical-align: top;\n",
              "    }\n",
              "\n",
              "    .dataframe thead th {\n",
              "        text-align: right;\n",
              "    }\n",
              "</style>\n",
              "<table border=\"1\" class=\"dataframe\">\n",
              "  <thead>\n",
              "    <tr style=\"text-align: right;\">\n",
              "      <th></th>\n",
              "      <th>pair_ID</th>\n",
              "      <th>sentence_A</th>\n",
              "      <th>sentence_B</th>\n",
              "      <th>relatedness_score</th>\n",
              "      <th>entailment_judgment</th>\n",
              "    </tr>\n",
              "  </thead>\n",
              "  <tbody>\n",
              "    <tr>\n",
              "      <th>0</th>\n",
              "      <td>1</td>\n",
              "      <td>A group of kids is playing in a yard and an ol...</td>\n",
              "      <td>A group of boys in a yard is playing and a man...</td>\n",
              "      <td>4.5</td>\n",
              "      <td>NEUTRAL</td>\n",
              "    </tr>\n",
              "    <tr>\n",
              "      <th>1</th>\n",
              "      <td>2</td>\n",
              "      <td>A group of children is playing in the house an...</td>\n",
              "      <td>A group of kids is playing in a yard and an ol...</td>\n",
              "      <td>3.2</td>\n",
              "      <td>NEUTRAL</td>\n",
              "    </tr>\n",
              "    <tr>\n",
              "      <th>2</th>\n",
              "      <td>3</td>\n",
              "      <td>The young boys are playing outdoors and the ma...</td>\n",
              "      <td>The kids are playing outdoors near a man with ...</td>\n",
              "      <td>4.7</td>\n",
              "      <td>ENTAILMENT</td>\n",
              "    </tr>\n",
              "    <tr>\n",
              "      <th>3</th>\n",
              "      <td>5</td>\n",
              "      <td>The kids are playing outdoors near a man with ...</td>\n",
              "      <td>A group of kids is playing in a yard and an ol...</td>\n",
              "      <td>3.4</td>\n",
              "      <td>NEUTRAL</td>\n",
              "    </tr>\n",
              "    <tr>\n",
              "      <th>4</th>\n",
              "      <td>9</td>\n",
              "      <td>The young boys are playing outdoors and the ma...</td>\n",
              "      <td>A group of kids is playing in a yard and an ol...</td>\n",
              "      <td>3.7</td>\n",
              "      <td>NEUTRAL</td>\n",
              "    </tr>\n",
              "    <tr>\n",
              "      <th>5</th>\n",
              "      <td>12</td>\n",
              "      <td>Two dogs are fighting</td>\n",
              "      <td>Two dogs are wrestling and hugging</td>\n",
              "      <td>4.0</td>\n",
              "      <td>NEUTRAL</td>\n",
              "    </tr>\n",
              "    <tr>\n",
              "      <th>6</th>\n",
              "      <td>14</td>\n",
              "      <td>A brown dog is attacking another animal in fro...</td>\n",
              "      <td>Two dogs are fighting</td>\n",
              "      <td>3.5</td>\n",
              "      <td>NEUTRAL</td>\n",
              "    </tr>\n",
              "    <tr>\n",
              "      <th>7</th>\n",
              "      <td>18</td>\n",
              "      <td>A brown dog is attacking another animal in fro...</td>\n",
              "      <td>Two dogs are wrestling and hugging</td>\n",
              "      <td>3.2</td>\n",
              "      <td>NEUTRAL</td>\n",
              "    </tr>\n",
              "    <tr>\n",
              "      <th>8</th>\n",
              "      <td>25</td>\n",
              "      <td>Nobody is riding the bicycle on one wheel</td>\n",
              "      <td>A person in a black jacket is doing tricks on ...</td>\n",
              "      <td>2.8</td>\n",
              "      <td>NEUTRAL</td>\n",
              "    </tr>\n",
              "    <tr>\n",
              "      <th>9</th>\n",
              "      <td>26</td>\n",
              "      <td>A person is riding the bicycle on one wheel</td>\n",
              "      <td>A man in a black jacket is doing tricks on a m...</td>\n",
              "      <td>3.7</td>\n",
              "      <td>NEUTRAL</td>\n",
              "    </tr>\n",
              "  </tbody>\n",
              "</table>\n",
              "</div>\n",
              "      <button class=\"colab-df-convert\" onclick=\"convertToInteractive('df-322dba41-c3b4-44f5-8727-788cb38b7e3c')\"\n",
              "              title=\"Convert this dataframe to an interactive table.\"\n",
              "              style=\"display:none;\">\n",
              "        \n",
              "  <svg xmlns=\"http://www.w3.org/2000/svg\" height=\"24px\"viewBox=\"0 0 24 24\"\n",
              "       width=\"24px\">\n",
              "    <path d=\"M0 0h24v24H0V0z\" fill=\"none\"/>\n",
              "    <path d=\"M18.56 5.44l.94 2.06.94-2.06 2.06-.94-2.06-.94-.94-2.06-.94 2.06-2.06.94zm-11 1L8.5 8.5l.94-2.06 2.06-.94-2.06-.94L8.5 2.5l-.94 2.06-2.06.94zm10 10l.94 2.06.94-2.06 2.06-.94-2.06-.94-.94-2.06-.94 2.06-2.06.94z\"/><path d=\"M17.41 7.96l-1.37-1.37c-.4-.4-.92-.59-1.43-.59-.52 0-1.04.2-1.43.59L10.3 9.45l-7.72 7.72c-.78.78-.78 2.05 0 2.83L4 21.41c.39.39.9.59 1.41.59.51 0 1.02-.2 1.41-.59l7.78-7.78 2.81-2.81c.8-.78.8-2.07 0-2.86zM5.41 20L4 18.59l7.72-7.72 1.47 1.35L5.41 20z\"/>\n",
              "  </svg>\n",
              "      </button>\n",
              "      \n",
              "  <style>\n",
              "    .colab-df-container {\n",
              "      display:flex;\n",
              "      flex-wrap:wrap;\n",
              "      gap: 12px;\n",
              "    }\n",
              "\n",
              "    .colab-df-convert {\n",
              "      background-color: #E8F0FE;\n",
              "      border: none;\n",
              "      border-radius: 50%;\n",
              "      cursor: pointer;\n",
              "      display: none;\n",
              "      fill: #1967D2;\n",
              "      height: 32px;\n",
              "      padding: 0 0 0 0;\n",
              "      width: 32px;\n",
              "    }\n",
              "\n",
              "    .colab-df-convert:hover {\n",
              "      background-color: #E2EBFA;\n",
              "      box-shadow: 0px 1px 2px rgba(60, 64, 67, 0.3), 0px 1px 3px 1px rgba(60, 64, 67, 0.15);\n",
              "      fill: #174EA6;\n",
              "    }\n",
              "\n",
              "    [theme=dark] .colab-df-convert {\n",
              "      background-color: #3B4455;\n",
              "      fill: #D2E3FC;\n",
              "    }\n",
              "\n",
              "    [theme=dark] .colab-df-convert:hover {\n",
              "      background-color: #434B5C;\n",
              "      box-shadow: 0px 1px 3px 1px rgba(0, 0, 0, 0.15);\n",
              "      filter: drop-shadow(0px 1px 2px rgba(0, 0, 0, 0.3));\n",
              "      fill: #FFFFFF;\n",
              "    }\n",
              "  </style>\n",
              "\n",
              "      <script>\n",
              "        const buttonEl =\n",
              "          document.querySelector('#df-322dba41-c3b4-44f5-8727-788cb38b7e3c button.colab-df-convert');\n",
              "        buttonEl.style.display =\n",
              "          google.colab.kernel.accessAllowed ? 'block' : 'none';\n",
              "\n",
              "        async function convertToInteractive(key) {\n",
              "          const element = document.querySelector('#df-322dba41-c3b4-44f5-8727-788cb38b7e3c');\n",
              "          const dataTable =\n",
              "            await google.colab.kernel.invokeFunction('convertToInteractive',\n",
              "                                                     [key], {});\n",
              "          if (!dataTable) return;\n",
              "\n",
              "          const docLinkHtml = 'Like what you see? Visit the ' +\n",
              "            '<a target=\"_blank\" href=https://colab.research.google.com/notebooks/data_table.ipynb>data table notebook</a>'\n",
              "            + ' to learn more about interactive tables.';\n",
              "          element.innerHTML = '';\n",
              "          dataTable['output_type'] = 'display_data';\n",
              "          await google.colab.output.renderOutput(dataTable, element);\n",
              "          const docLink = document.createElement('div');\n",
              "          docLink.innerHTML = docLinkHtml;\n",
              "          element.appendChild(docLink);\n",
              "        }\n",
              "      </script>\n",
              "    </div>\n",
              "  </div>\n",
              "  "
            ]
          },
          "metadata": {},
          "execution_count": 2
        }
      ]
    },
    {
      "cell_type": "code",
      "source": [
        "df1= sick_data[sick_data['relatedness_score'].between(1,2)]\n",
        "df1\n",
        "df1.count()    #count of pairs with relatedness_score between 1 and 2"
      ],
      "metadata": {
        "colab": {
          "base_uri": "https://localhost:8080/"
        },
        "id": "izslMW86VtPv",
        "outputId": "d17433b6-67ed-4bf2-eeb1-28e57a1f9536"
      },
      "execution_count": null,
      "outputs": [
        {
          "output_type": "execute_result",
          "data": {
            "text/plain": [
              "pair_ID                469\n",
              "sentence_A             469\n",
              "sentence_B             469\n",
              "relatedness_score      469\n",
              "entailment_judgment    469\n",
              "dtype: int64"
            ]
          },
          "metadata": {},
          "execution_count": 3
        }
      ]
    },
    {
      "cell_type": "code",
      "source": [
        "df2= sick_data[sick_data['relatedness_score'].between(2,3)]\n",
        "df2\n",
        "df2.count()             #count of pairs with relatedness_score between 2 and 3"
      ],
      "metadata": {
        "colab": {
          "base_uri": "https://localhost:8080/"
        },
        "id": "Qea5Qi8bZPjZ",
        "outputId": "dd3b8079-0d9b-4810-b4ab-8ddf5e690685"
      },
      "execution_count": null,
      "outputs": [
        {
          "output_type": "execute_result",
          "data": {
            "text/plain": [
              "pair_ID                765\n",
              "sentence_A             765\n",
              "sentence_B             765\n",
              "relatedness_score      765\n",
              "entailment_judgment    765\n",
              "dtype: int64"
            ]
          },
          "metadata": {},
          "execution_count": 4
        }
      ]
    },
    {
      "cell_type": "code",
      "source": [
        "df3= sick_data[sick_data['relatedness_score'].between(3,4)]\n",
        "df3\n",
        "df3.count()             #count of pairs with relatedness_score between 3 and 4"
      ],
      "metadata": {
        "colab": {
          "base_uri": "https://localhost:8080/"
        },
        "id": "7jYZklpeZUO2",
        "outputId": "3652e293-fc08-4c2f-a665-2fa0f5ce08b6"
      },
      "execution_count": null,
      "outputs": [
        {
          "output_type": "execute_result",
          "data": {
            "text/plain": [
              "pair_ID                1915\n",
              "sentence_A             1915\n",
              "sentence_B             1915\n",
              "relatedness_score      1915\n",
              "entailment_judgment    1915\n",
              "dtype: int64"
            ]
          },
          "metadata": {},
          "execution_count": 5
        }
      ]
    },
    {
      "cell_type": "code",
      "source": [
        "df4= sick_data[sick_data['relatedness_score'].between(4,5)]\n",
        "df4\n",
        "df4.count()             #count of pairs with relatedness_score between 4 and 5"
      ],
      "metadata": {
        "colab": {
          "base_uri": "https://localhost:8080/"
        },
        "id": "qvMByX6rZUZh",
        "outputId": "d197d496-6388-4441-bdf9-5db5bcad3e1c"
      },
      "execution_count": null,
      "outputs": [
        {
          "output_type": "execute_result",
          "data": {
            "text/plain": [
              "pair_ID                1683\n",
              "sentence_A             1683\n",
              "sentence_B             1683\n",
              "relatedness_score      1683\n",
              "entailment_judgment    1683\n",
              "dtype: int64"
            ]
          },
          "metadata": {},
          "execution_count": 6
        }
      ]
    },
    {
      "cell_type": "code",
      "source": [
        "sick_data['entailment_judgment'].value_counts()['NEUTRAL'] #COUNT OF NEUTRAL SENTENCES"
      ],
      "metadata": {
        "colab": {
          "base_uri": "https://localhost:8080/"
        },
        "id": "Tl3BYoBVbu1L",
        "outputId": "5def9d5e-0863-4ffe-8de5-4fe8cf14469a"
      },
      "execution_count": null,
      "outputs": [
        {
          "output_type": "execute_result",
          "data": {
            "text/plain": [
              "2536"
            ]
          },
          "metadata": {},
          "execution_count": 7
        }
      ]
    },
    {
      "cell_type": "code",
      "source": [
        "sick_data['entailment_judgment'].value_counts()['CONTRADICTION']  #COUNT OF CONTRADICTED SENTENCES"
      ],
      "metadata": {
        "colab": {
          "base_uri": "https://localhost:8080/"
        },
        "id": "HGIevrG0cElY",
        "outputId": "f08eb858-9246-4f35-e8cc-e4d924e09056"
      },
      "execution_count": null,
      "outputs": [
        {
          "output_type": "execute_result",
          "data": {
            "text/plain": [
              "665"
            ]
          },
          "metadata": {},
          "execution_count": 8
        }
      ]
    },
    {
      "cell_type": "code",
      "source": [
        "sick_data['entailment_judgment'].value_counts()['ENTAILMENT']"
      ],
      "metadata": {
        "colab": {
          "base_uri": "https://localhost:8080/"
        },
        "id": "8z85sfaMcEwi",
        "outputId": "7a20e92b-fbb6-49aa-a940-c3bd44cfaf93"
      },
      "execution_count": null,
      "outputs": [
        {
          "output_type": "execute_result",
          "data": {
            "text/plain": [
              "1299"
            ]
          },
          "metadata": {},
          "execution_count": 9
        }
      ]
    },
    {
      "cell_type": "code",
      "source": [
        "import matplotlib.pyplot as plt\n",
        "plt.hist(sick_data['relatedness_score'], bins=10, color='green', edgecolor='black')\n",
        "plt.title('Relatedness Score',fontsize=15)\n",
        "ax = plt.axes()\n",
        "ax.set_facecolor(\"black\")\n",
        "plt.show()                             #using matplotlib library to plot histogram of relatedness_score"
      ],
      "metadata": {
        "colab": {
          "base_uri": "https://localhost:8080/",
          "height": 338
        },
        "id": "u84dklbtH75w",
        "outputId": "f6de3bca-63fc-496b-8edf-27ee3a81fbf1"
      },
      "execution_count": null,
      "outputs": [
        {
          "output_type": "stream",
          "name": "stderr",
          "text": [
            "/usr/local/lib/python3.7/dist-packages/ipykernel_launcher.py:4: MatplotlibDeprecationWarning: Adding an axes using the same arguments as a previous axes currently reuses the earlier instance.  In a future version, a new instance will always be created and returned.  Meanwhile, this warning can be suppressed, and the future behavior ensured, by passing a unique label to each axes instance.\n",
            "  after removing the cwd from sys.path.\n"
          ]
        },
        {
          "output_type": "display_data",
          "data": {
            "text/plain": [
              "<Figure size 432x288 with 1 Axes>"
            ],
            "image/png": "[encoded data removed]"
          },
          "metadata": {
            "needs_background": "light"
          }
        }
      ]
    },
    {
      "cell_type": "markdown",
      "source": [
        "The relatednes scoring: 469 pairs within the (1,2) range, 765 pairs within the (2,3) range, 1915 pairs within the (3,4) range, \n",
        "and 1683 pairs within the (4,5) range; <br>The entailment_judgment 2536 neutral pairs, 665 contradiction pairs, and 1299 entailment pairs.<br>\n",
        "Based on the histogram of relatedness score, the relatedness score is higher\n",
        "between 750th and 800th rows of the dataset and these sentences could be considered very similar."
      ],
      "metadata": {
        "id": "itqHBmrQTNPU"
      }
    },
    {
      "cell_type": "code",
      "source": [
        "contrast_sentences=sick_data.loc[sick_data['entailment_judgment'] == 'CONTRADICTION']\n",
        "contrast_sentences"
      ],
      "metadata": {
        "colab": {
          "base_uri": "https://localhost:8080/",
          "height": 423
        },
        "id": "qm_pBgSg0Tzv",
        "outputId": "c364559a-ebe4-4bf6-c535-ab180b069024"
      },
      "execution_count": 24,
      "outputs": [
        {
          "output_type": "execute_result",
          "data": {
            "text/plain": [
              "      pair_ID                                         sentence_A  \\\n",
              "14         42  Two people are kickboxing and spectators are n...   \n",
              "36         88               There is no biker jumping in the air   \n",
              "37         90                A man is jumping into an empty pool   \n",
              "50        122  Five kids are standing close together and one ...   \n",
              "61        141  A group of friends are riding the current in a...   \n",
              "...       ...                                                ...   \n",
              "4327     9616           No people are riding camels at the beach   \n",
              "4338     9643  A brown and white dog is running through the r...   \n",
              "4340     9645                     No dog is emerging from a lake   \n",
              "4382     9726  The motorcycle racer is riding a red and black...   \n",
              "4388     9744  A little boy is sticking his tongue out for th...   \n",
              "\n",
              "                                             sentence_B  relatedness_score  \\\n",
              "14    Two people are kickboxing and spectators are w...                3.4   \n",
              "36                   A lone biker is jumping in the air                4.2   \n",
              "37                    A man is jumping into a full pool                3.0   \n",
              "50    Five kids are standing close together and none...                3.7   \n",
              "61          A group is not riding the current in a raft                3.7   \n",
              "...                                                 ...                ...   \n",
              "4327          People are riding two camels at the beach                3.7   \n",
              "4338  A brown and white dog is not running through t...                3.6   \n",
              "4340                      A dog is emerging from a lake                4.0   \n",
              "4382  No motorcycle racer is riding a red and black ...                3.8   \n",
              "4388  A little boy is sticking his tongue out for th...                4.2   \n",
              "\n",
              "     entailment_judgment  \n",
              "14         CONTRADICTION  \n",
              "36         CONTRADICTION  \n",
              "37         CONTRADICTION  \n",
              "50         CONTRADICTION  \n",
              "61         CONTRADICTION  \n",
              "...                  ...  \n",
              "4327       CONTRADICTION  \n",
              "4338       CONTRADICTION  \n",
              "4340       CONTRADICTION  \n",
              "4382       CONTRADICTION  \n",
              "4388       CONTRADICTION  \n",
              "\n",
              "[665 rows x 5 columns]"
            ],
            "text/html": [
              "\n",
              "  <div id=\"df-bfe9ee26-d6df-4dc9-bea6-26941e0e9455\">\n",
              "    <div class=\"colab-df-container\">\n",
              "      <div>\n",
              "<style scoped>\n",
              "    .dataframe tbody tr th:only-of-type {\n",
              "        vertical-align: middle;\n",
              "    }\n",
              "\n",
              "    .dataframe tbody tr th {\n",
              "        vertical-align: top;\n",
              "    }\n",
              "\n",
              "    .dataframe thead th {\n",
              "        text-align: right;\n",
              "    }\n",
              "</style>\n",
              "<table border=\"1\" class=\"dataframe\">\n",
              "  <thead>\n",
              "    <tr style=\"text-align: right;\">\n",
              "      <th></th>\n",
              "      <th>pair_ID</th>\n",
              "      <th>sentence_A</th>\n",
              "      <th>sentence_B</th>\n",
              "      <th>relatedness_score</th>\n",
              "      <th>entailment_judgment</th>\n",
              "    </tr>\n",
              "  </thead>\n",
              "  <tbody>\n",
              "    <tr>\n",
              "      <th>14</th>\n",
              "      <td>42</td>\n",
              "      <td>Two people are kickboxing and spectators are n...</td>\n",
              "      <td>Two people are kickboxing and spectators are w...</td>\n",
              "      <td>3.4</td>\n",
              "      <td>CONTRADICTION</td>\n",
              "    </tr>\n",
              "    <tr>\n",
              "      <th>36</th>\n",
              "      <td>88</td>\n",
              "      <td>There is no biker jumping in the air</td>\n",
              "      <td>A lone biker is jumping in the air</td>\n",
              "      <td>4.2</td>\n",
              "      <td>CONTRADICTION</td>\n",
              "    </tr>\n",
              "    <tr>\n",
              "      <th>37</th>\n",
              "      <td>90</td>\n",
              "      <td>A man is jumping into an empty pool</td>\n",
              "      <td>A man is jumping into a full pool</td>\n",
              "      <td>3.0</td>\n",
              "      <td>CONTRADICTION</td>\n",
              "    </tr>\n",
              "    <tr>\n",
              "      <th>50</th>\n",
              "      <td>122</td>\n",
              "      <td>Five kids are standing close together and one ...</td>\n",
              "      <td>Five kids are standing close together and none...</td>\n",
              "      <td>3.7</td>\n",
              "      <td>CONTRADICTION</td>\n",
              "    </tr>\n",
              "    <tr>\n",
              "      <th>61</th>\n",
              "      <td>141</td>\n",
              "      <td>A group of friends are riding the current in a...</td>\n",
              "      <td>A group is not riding the current in a raft</td>\n",
              "      <td>3.7</td>\n",
              "      <td>CONTRADICTION</td>\n",
              "    </tr>\n",
              "    <tr>\n",
              "      <th>...</th>\n",
              "      <td>...</td>\n",
              "      <td>...</td>\n",
              "      <td>...</td>\n",
              "      <td>...</td>\n",
              "      <td>...</td>\n",
              "    </tr>\n",
              "    <tr>\n",
              "      <th>4327</th>\n",
              "      <td>9616</td>\n",
              "      <td>No people are riding camels at the beach</td>\n",
              "      <td>People are riding two camels at the beach</td>\n",
              "      <td>3.7</td>\n",
              "      <td>CONTRADICTION</td>\n",
              "    </tr>\n",
              "    <tr>\n",
              "      <th>4338</th>\n",
              "      <td>9643</td>\n",
              "      <td>A brown and white dog is running through the r...</td>\n",
              "      <td>A brown and white dog is not running through t...</td>\n",
              "      <td>3.6</td>\n",
              "      <td>CONTRADICTION</td>\n",
              "    </tr>\n",
              "    <tr>\n",
              "      <th>4340</th>\n",
              "      <td>9645</td>\n",
              "      <td>No dog is emerging from a lake</td>\n",
              "      <td>A dog is emerging from a lake</td>\n",
              "      <td>4.0</td>\n",
              "      <td>CONTRADICTION</td>\n",
              "    </tr>\n",
              "    <tr>\n",
              "      <th>4382</th>\n",
              "      <td>9726</td>\n",
              "      <td>The motorcycle racer is riding a red and black...</td>\n",
              "      <td>No motorcycle racer is riding a red and black ...</td>\n",
              "      <td>3.8</td>\n",
              "      <td>CONTRADICTION</td>\n",
              "    </tr>\n",
              "    <tr>\n",
              "      <th>4388</th>\n",
              "      <td>9744</td>\n",
              "      <td>A little boy is sticking his tongue out for th...</td>\n",
              "      <td>A little boy is sticking his tongue out for th...</td>\n",
              "      <td>4.2</td>\n",
              "      <td>CONTRADICTION</td>\n",
              "    </tr>\n",
              "  </tbody>\n",
              "</table>\n",
              "<p>665 rows × 5 columns</p>\n",
              "</div>\n",
              "      <button class=\"colab-df-convert\" onclick=\"convertToInteractive('df-bfe9ee26-d6df-4dc9-bea6-26941e0e9455')\"\n",
              "              title=\"Convert this dataframe to an interactive table.\"\n",
              "              style=\"display:none;\">\n",
              "        \n",
              "  <svg xmlns=\"http://www.w3.org/2000/svg\" height=\"24px\"viewBox=\"0 0 24 24\"\n",
              "       width=\"24px\">\n",
              "    <path d=\"M0 0h24v24H0V0z\" fill=\"none\"/>\n",
              "    <path d=\"M18.56 5.44l.94 2.06.94-2.06 2.06-.94-2.06-.94-.94-2.06-.94 2.06-2.06.94zm-11 1L8.5 8.5l.94-2.06 2.06-.94-2.06-.94L8.5 2.5l-.94 2.06-2.06.94zm10 10l.94 2.06.94-2.06 2.06-.94-2.06-.94-.94-2.06-.94 2.06-2.06.94z\"/><path d=\"M17.41 7.96l-1.37-1.37c-.4-.4-.92-.59-1.43-.59-.52 0-1.04.2-1.43.59L10.3 9.45l-7.72 7.72c-.78.78-.78 2.05 0 2.83L4 21.41c.39.39.9.59 1.41.59.51 0 1.02-.2 1.41-.59l7.78-7.78 2.81-2.81c.8-.78.8-2.07 0-2.86zM5.41 20L4 18.59l7.72-7.72 1.47 1.35L5.41 20z\"/>\n",
              "  </svg>\n",
              "      </button>\n",
              "      \n",
              "  <style>\n",
              "    .colab-df-container {\n",
              "      display:flex;\n",
              "      flex-wrap:wrap;\n",
              "      gap: 12px;\n",
              "    }\n",
              "\n",
              "    .colab-df-convert {\n",
              "      background-color: #E8F0FE;\n",
              "      border: none;\n",
              "      border-radius: 50%;\n",
              "      cursor: pointer;\n",
              "      display: none;\n",
              "      fill: #1967D2;\n",
              "      height: 32px;\n",
              "      padding: 0 0 0 0;\n",
              "      width: 32px;\n",
              "    }\n",
              "\n",
              "    .colab-df-convert:hover {\n",
              "      background-color: #E2EBFA;\n",
              "      box-shadow: 0px 1px 2px rgba(60, 64, 67, 0.3), 0px 1px 3px 1px rgba(60, 64, 67, 0.15);\n",
              "      fill: #174EA6;\n",
              "    }\n",
              "\n",
              "    [theme=dark] .colab-df-convert {\n",
              "      background-color: #3B4455;\n",
              "      fill: #D2E3FC;\n",
              "    }\n",
              "\n",
              "    [theme=dark] .colab-df-convert:hover {\n",
              "      background-color: #434B5C;\n",
              "      box-shadow: 0px 1px 3px 1px rgba(0, 0, 0, 0.15);\n",
              "      filter: drop-shadow(0px 1px 2px rgba(0, 0, 0, 0.3));\n",
              "      fill: #FFFFFF;\n",
              "    }\n",
              "  </style>\n",
              "\n",
              "      <script>\n",
              "        const buttonEl =\n",
              "          document.querySelector('#df-bfe9ee26-d6df-4dc9-bea6-26941e0e9455 button.colab-df-convert');\n",
              "        buttonEl.style.display =\n",
              "          google.colab.kernel.accessAllowed ? 'block' : 'none';\n",
              "\n",
              "        async function convertToInteractive(key) {\n",
              "          const element = document.querySelector('#df-bfe9ee26-d6df-4dc9-bea6-26941e0e9455');\n",
              "          const dataTable =\n",
              "            await google.colab.kernel.invokeFunction('convertToInteractive',\n",
              "                                                     [key], {});\n",
              "          if (!dataTable) return;\n",
              "\n",
              "          const docLinkHtml = 'Like what you see? Visit the ' +\n",
              "            '<a target=\"_blank\" href=https://colab.research.google.com/notebooks/data_table.ipynb>data table notebook</a>'\n",
              "            + ' to learn more about interactive tables.';\n",
              "          element.innerHTML = '';\n",
              "          dataTable['output_type'] = 'display_data';\n",
              "          await google.colab.output.renderOutput(dataTable, element);\n",
              "          const docLink = document.createElement('div');\n",
              "          docLink.innerHTML = docLinkHtml;\n",
              "          element.appendChild(docLink);\n",
              "        }\n",
              "      </script>\n",
              "    </div>\n",
              "  </div>\n",
              "  "
            ]
          },
          "metadata": {},
          "execution_count": 24
        }
      ]
    },
    {
      "cell_type": "code",
      "source": [
        "import matplotlib.pyplot as plt\n",
        "plt.hist(contrast_sentences['relatedness_score'], bins=10, color='green', edgecolor='black')\n",
        "plt.title('Relatedness Score',fontsize=15)\n",
        "ax = plt.axes()\n",
        "ax.set_facecolor(\"black\")\n",
        "plt.show()     "
      ],
      "metadata": {
        "colab": {
          "base_uri": "https://localhost:8080/",
          "height": 338
        },
        "id": "0LtIZ7RN1A31",
        "outputId": "94eb95be-a6b6-4b1a-d793-77df3f6e6836"
      },
      "execution_count": 25,
      "outputs": [
        {
          "output_type": "stream",
          "name": "stderr",
          "text": [
            "/usr/local/lib/python3.7/dist-packages/ipykernel_launcher.py:4: MatplotlibDeprecationWarning: Adding an axes using the same arguments as a previous axes currently reuses the earlier instance.  In a future version, a new instance will always be created and returned.  Meanwhile, this warning can be suppressed, and the future behavior ensured, by passing a unique label to each axes instance.\n",
            "  after removing the cwd from sys.path.\n"
          ]
        },
        {
          "output_type": "display_data",
          "data": {
            "text/plain": [
              "<Figure size 432x288 with 1 Axes>"
            ],
            "image/png": "[encoded data removed]"
          },
          "metadata": {
            "needs_background": "light"
          }
        }
      ]
    },
    {
      "cell_type": "code",
      "source": [
        "sick_data_subset=sick_data.loc[sick_data['relatedness_score'] >= 4]\n",
        "sick_data_subset             #SUBSET OF SICK DATASET WITH RELATEDNESS_SCORE >= 4"
      ],
      "metadata": {
        "colab": {
          "base_uri": "https://localhost:8080/",
          "height": 423
        },
        "id": "_rbP_WKxnSHw",
        "outputId": "75fc9de1-7187-45be-d213-e8a1be15f6a9"
      },
      "execution_count": 26,
      "outputs": [
        {
          "output_type": "execute_result",
          "data": {
            "text/plain": [
              "      pair_ID                                         sentence_A  \\\n",
              "0           1  A group of kids is playing in a yard and an ol...   \n",
              "2           3  The young boys are playing outdoors and the ma...   \n",
              "5          12                              Two dogs are fighting   \n",
              "11         30  A man with a jersey is dunking the ball at a b...   \n",
              "15         44  Two young women are sparring in a kickboxing f...   \n",
              "...       ...                                                ...   \n",
              "4386     9736  The woman is wearing ear protection and is fir...   \n",
              "4387     9738  A woman is wearing ear protection and is firin...   \n",
              "4388     9744  A little boy is sticking his tongue out for th...   \n",
              "4392     9752  A dog is running on concrete and is holding a ...   \n",
              "4393     9753  A dog is standing on concrete and is holding a...   \n",
              "\n",
              "                                             sentence_B  relatedness_score  \\\n",
              "0     A group of boys in a yard is playing and a man...                4.5   \n",
              "2     The kids are playing outdoors near a man with ...                4.7   \n",
              "5                    Two dogs are wrestling and hugging                4.0   \n",
              "11    The ball is being dunked by a man with a jerse...                4.9   \n",
              "15         Two women are sparring in a kickboxing match                4.9   \n",
              "...                                                 ...                ...   \n",
              "4386             A woman is shooting at target practice                4.3   \n",
              "4387               A woman is firing at target practice                4.1   \n",
              "4388  A little boy is sticking his tongue out for th...                4.2   \n",
              "4392  A dog is running on concrete and is holding a ...                4.7   \n",
              "4393  A dog is running on concrete and is holding a ...                4.2   \n",
              "\n",
              "     entailment_judgment  \n",
              "0                NEUTRAL  \n",
              "2             ENTAILMENT  \n",
              "5                NEUTRAL  \n",
              "11            ENTAILMENT  \n",
              "15            ENTAILMENT  \n",
              "...                  ...  \n",
              "4386          ENTAILMENT  \n",
              "4387          ENTAILMENT  \n",
              "4388       CONTRADICTION  \n",
              "4392          ENTAILMENT  \n",
              "4393             NEUTRAL  \n",
              "\n",
              "[1683 rows x 5 columns]"
            ],
            "text/html": [
              "\n",
              "  <div id=\"df-bcfe34a7-fb5f-4e9f-a108-b8553755e182\">\n",
              "    <div class=\"colab-df-container\">\n",
              "      <div>\n",
              "<style scoped>\n",
              "    .dataframe tbody tr th:only-of-type {\n",
              "        vertical-align: middle;\n",
              "    }\n",
              "\n",
              "    .dataframe tbody tr th {\n",
              "        vertical-align: top;\n",
              "    }\n",
              "\n",
              "    .dataframe thead th {\n",
              "        text-align: right;\n",
              "    }\n",
              "</style>\n",
              "<table border=\"1\" class=\"dataframe\">\n",
              "  <thead>\n",
              "    <tr style=\"text-align: right;\">\n",
              "      <th></th>\n",
              "      <th>pair_ID</th>\n",
              "      <th>sentence_A</th>\n",
              "      <th>sentence_B</th>\n",
              "      <th>relatedness_score</th>\n",
              "      <th>entailment_judgment</th>\n",
              "    </tr>\n",
              "  </thead>\n",
              "  <tbody>\n",
              "    <tr>\n",
              "      <th>0</th>\n",
              "      <td>1</td>\n",
              "      <td>A group of kids is playing in a yard and an ol...</td>\n",
              "      <td>A group of boys in a yard is playing and a man...</td>\n",
              "      <td>4.5</td>\n",
              "      <td>NEUTRAL</td>\n",
              "    </tr>\n",
              "    <tr>\n",
              "      <th>2</th>\n",
              "      <td>3</td>\n",
              "      <td>The young boys are playing outdoors and the ma...</td>\n",
              "      <td>The kids are playing outdoors near a man with ...</td>\n",
              "      <td>4.7</td>\n",
              "      <td>ENTAILMENT</td>\n",
              "    </tr>\n",
              "    <tr>\n",
              "      <th>5</th>\n",
              "      <td>12</td>\n",
              "      <td>Two dogs are fighting</td>\n",
              "      <td>Two dogs are wrestling and hugging</td>\n",
              "      <td>4.0</td>\n",
              "      <td>NEUTRAL</td>\n",
              "    </tr>\n",
              "    <tr>\n",
              "      <th>11</th>\n",
              "      <td>30</td>\n",
              "      <td>A man with a jersey is dunking the ball at a b...</td>\n",
              "      <td>The ball is being dunked by a man with a jerse...</td>\n",
              "      <td>4.9</td>\n",
              "      <td>ENTAILMENT</td>\n",
              "    </tr>\n",
              "    <tr>\n",
              "      <th>15</th>\n",
              "      <td>44</td>\n",
              "      <td>Two young women are sparring in a kickboxing f...</td>\n",
              "      <td>Two women are sparring in a kickboxing match</td>\n",
              "      <td>4.9</td>\n",
              "      <td>ENTAILMENT</td>\n",
              "    </tr>\n",
              "    <tr>\n",
              "      <th>...</th>\n",
              "      <td>...</td>\n",
              "      <td>...</td>\n",
              "      <td>...</td>\n",
              "      <td>...</td>\n",
              "      <td>...</td>\n",
              "    </tr>\n",
              "    <tr>\n",
              "      <th>4386</th>\n",
              "      <td>9736</td>\n",
              "      <td>The woman is wearing ear protection and is fir...</td>\n",
              "      <td>A woman is shooting at target practice</td>\n",
              "      <td>4.3</td>\n",
              "      <td>ENTAILMENT</td>\n",
              "    </tr>\n",
              "    <tr>\n",
              "      <th>4387</th>\n",
              "      <td>9738</td>\n",
              "      <td>A woman is wearing ear protection and is firin...</td>\n",
              "      <td>A woman is firing at target practice</td>\n",
              "      <td>4.1</td>\n",
              "      <td>ENTAILMENT</td>\n",
              "    </tr>\n",
              "    <tr>\n",
              "      <th>4388</th>\n",
              "      <td>9744</td>\n",
              "      <td>A little boy is sticking his tongue out for th...</td>\n",
              "      <td>A little boy is sticking his tongue out for th...</td>\n",
              "      <td>4.2</td>\n",
              "      <td>CONTRADICTION</td>\n",
              "    </tr>\n",
              "    <tr>\n",
              "      <th>4392</th>\n",
              "      <td>9752</td>\n",
              "      <td>A dog is running on concrete and is holding a ...</td>\n",
              "      <td>A dog is running on concrete and is holding a ...</td>\n",
              "      <td>4.7</td>\n",
              "      <td>ENTAILMENT</td>\n",
              "    </tr>\n",
              "    <tr>\n",
              "      <th>4393</th>\n",
              "      <td>9753</td>\n",
              "      <td>A dog is standing on concrete and is holding a...</td>\n",
              "      <td>A dog is running on concrete and is holding a ...</td>\n",
              "      <td>4.2</td>\n",
              "      <td>NEUTRAL</td>\n",
              "    </tr>\n",
              "  </tbody>\n",
              "</table>\n",
              "<p>1683 rows × 5 columns</p>\n",
              "</div>\n",
              "      <button class=\"colab-df-convert\" onclick=\"convertToInteractive('df-bcfe34a7-fb5f-4e9f-a108-b8553755e182')\"\n",
              "              title=\"Convert this dataframe to an interactive table.\"\n",
              "              style=\"display:none;\">\n",
              "        \n",
              "  <svg xmlns=\"http://www.w3.org/2000/svg\" height=\"24px\"viewBox=\"0 0 24 24\"\n",
              "       width=\"24px\">\n",
              "    <path d=\"M0 0h24v24H0V0z\" fill=\"none\"/>\n",
              "    <path d=\"M18.56 5.44l.94 2.06.94-2.06 2.06-.94-2.06-.94-.94-2.06-.94 2.06-2.06.94zm-11 1L8.5 8.5l.94-2.06 2.06-.94-2.06-.94L8.5 2.5l-.94 2.06-2.06.94zm10 10l.94 2.06.94-2.06 2.06-.94-2.06-.94-.94-2.06-.94 2.06-2.06.94z\"/><path d=\"M17.41 7.96l-1.37-1.37c-.4-.4-.92-.59-1.43-.59-.52 0-1.04.2-1.43.59L10.3 9.45l-7.72 7.72c-.78.78-.78 2.05 0 2.83L4 21.41c.39.39.9.59 1.41.59.51 0 1.02-.2 1.41-.59l7.78-7.78 2.81-2.81c.8-.78.8-2.07 0-2.86zM5.41 20L4 18.59l7.72-7.72 1.47 1.35L5.41 20z\"/>\n",
              "  </svg>\n",
              "      </button>\n",
              "      \n",
              "  <style>\n",
              "    .colab-df-container {\n",
              "      display:flex;\n",
              "      flex-wrap:wrap;\n",
              "      gap: 12px;\n",
              "    }\n",
              "\n",
              "    .colab-df-convert {\n",
              "      background-color: #E8F0FE;\n",
              "      border: none;\n",
              "      border-radius: 50%;\n",
              "      cursor: pointer;\n",
              "      display: none;\n",
              "      fill: #1967D2;\n",
              "      height: 32px;\n",
              "      padding: 0 0 0 0;\n",
              "      width: 32px;\n",
              "    }\n",
              "\n",
              "    .colab-df-convert:hover {\n",
              "      background-color: #E2EBFA;\n",
              "      box-shadow: 0px 1px 2px rgba(60, 64, 67, 0.3), 0px 1px 3px 1px rgba(60, 64, 67, 0.15);\n",
              "      fill: #174EA6;\n",
              "    }\n",
              "\n",
              "    [theme=dark] .colab-df-convert {\n",
              "      background-color: #3B4455;\n",
              "      fill: #D2E3FC;\n",
              "    }\n",
              "\n",
              "    [theme=dark] .colab-df-convert:hover {\n",
              "      background-color: #434B5C;\n",
              "      box-shadow: 0px 1px 3px 1px rgba(0, 0, 0, 0.15);\n",
              "      filter: drop-shadow(0px 1px 2px rgba(0, 0, 0, 0.3));\n",
              "      fill: #FFFFFF;\n",
              "    }\n",
              "  </style>\n",
              "\n",
              "      <script>\n",
              "        const buttonEl =\n",
              "          document.querySelector('#df-bcfe34a7-fb5f-4e9f-a108-b8553755e182 button.colab-df-convert');\n",
              "        buttonEl.style.display =\n",
              "          google.colab.kernel.accessAllowed ? 'block' : 'none';\n",
              "\n",
              "        async function convertToInteractive(key) {\n",
              "          const element = document.querySelector('#df-bcfe34a7-fb5f-4e9f-a108-b8553755e182');\n",
              "          const dataTable =\n",
              "            await google.colab.kernel.invokeFunction('convertToInteractive',\n",
              "                                                     [key], {});\n",
              "          if (!dataTable) return;\n",
              "\n",
              "          const docLinkHtml = 'Like what you see? Visit the ' +\n",
              "            '<a target=\"_blank\" href=https://colab.research.google.com/notebooks/data_table.ipynb>data table notebook</a>'\n",
              "            + ' to learn more about interactive tables.';\n",
              "          element.innerHTML = '';\n",
              "          dataTable['output_type'] = 'display_data';\n",
              "          await google.colab.output.renderOutput(dataTable, element);\n",
              "          const docLink = document.createElement('div');\n",
              "          docLink.innerHTML = docLinkHtml;\n",
              "          element.appendChild(docLink);\n",
              "        }\n",
              "      </script>\n",
              "    </div>\n",
              "  </div>\n",
              "  "
            ]
          },
          "metadata": {},
          "execution_count": 26
        }
      ]
    },
    {
      "cell_type": "code",
      "source": [
        "sick_data_subset.to_csv('sick_data_subset', encoding='utf-8', index=False) #CREATING A CSV FILE"
      ],
      "metadata": {
        "id": "wZGl2GZbnoD6"
      },
      "execution_count": 27,
      "outputs": []
    },
    {
      "cell_type": "code",
      "source": [
        "neutral_sentence=sick_data.loc[(sick_data['entailment_judgment'] == 'NEUTRAL') & (sick_data['relatedness_score'] >= 4)]\n",
        "neutral_sentence\n",
        "neutral_sentence.to_csv('neutral_sentence', encoding='utf-8', index=False) #SUBSET OF SICK DATASET WITH ONLY NEUTRAL SENTENCES HAVING RELATEDNESS_SCORE>=4"
      ],
      "metadata": {
        "id": "pYnanU-mpGez"
      },
      "execution_count": 30,
      "outputs": []
    },
    {
      "cell_type": "code",
      "source": [
        "contradiction_sentence=sick_data.loc[(sick_data['entailment_judgment'] == 'CONTRADICTION') & (sick_data['relatedness_score'] >= 4)]\n",
        "contradiction_sentence\n",
        "contradiction_sentence.to_csv('contradiction_sentence', encoding='utf-8', index=False) #SUBSET OF SICK DATASET WITH ONLY CONTRADICTED SENTENCES HAVING RELATEDNESS_SCORE>=4"
      ],
      "metadata": {
        "id": "JudZ8vcBrhvd"
      },
      "execution_count": 31,
      "outputs": []
    },
    {
      "cell_type": "code",
      "source": [
        "entailment_sentence=sick_data.loc[(sick_data['entailment_judgment'] == 'ENTAILMENT') & (sick_data['relatedness_score'] >= 4)]\n",
        "entailment_sentence\n",
        "entailment_sentence.to_csv('entailment_sentence', encoding='utf-8', index=False) #SUBSET OF SICK DATASET WITH ONLY ENTAILMENT SENTENCES HAVING RELATEDNESS_SCORE>=4"
      ],
      "metadata": {
        "id": "vEMRGC_fsNNe"
      },
      "execution_count": 32,
      "outputs": []
    }
  ]
}